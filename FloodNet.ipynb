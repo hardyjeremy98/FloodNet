{
  "nbformat": 4,
  "nbformat_minor": 0,
  "metadata": {
    "colab": {
      "provenance": [],
      "mount_file_id": "1G8ASx6QZRPt9XPw8TsWIL9oAFNWz4T7U",
      "authorship_tag": "ABX9TyO/1C3BdMMX2lEjTkHO7/1d",
      "include_colab_link": true
    },
    "kernelspec": {
      "name": "python3",
      "display_name": "Python 3"
    },
    "language_info": {
      "name": "python"
    }
  },
  "cells": [
    {
      "cell_type": "markdown",
      "metadata": {
        "id": "view-in-github",
        "colab_type": "text"
      },
      "source": [
        "<a href=\"https://colab.research.google.com/github/hardyjeremy98/FloodNet/blob/main/FloodNet.ipynb\" target=\"_parent\"><img src=\"https://colab.research.google.com/assets/colab-badge.svg\" alt=\"Open In Colab\"/></a>"
      ]
    },
    {
      "cell_type": "code",
      "source": [
        "from google.colab import drive\n",
        "drive.mount('/content/gdrive')"
      ],
      "metadata": {
        "colab": {
          "base_uri": "https://localhost:8080/"
        },
        "id": "usamGrIbD86e",
        "outputId": "00e6c1ba-a903-47be-f7ac-f3f3fd1ddd8d"
      },
      "execution_count": 1,
      "outputs": [
        {
          "output_type": "stream",
          "name": "stdout",
          "text": [
            "Mounted at /content/gdrive\n"
          ]
        }
      ]
    },
    {
      "cell_type": "markdown",
      "source": [
        "---"
      ],
      "metadata": {
        "id": "tMkex6F9HzU0"
      }
    },
    {
      "cell_type": "code",
      "source": [
        "# Import PyTorch\n",
        "import torch\n",
        "from torch import nn\n",
        "\n",
        "# Import torchvision\n",
        "import torchvision\n",
        "from torchvision import datasets\n",
        "from torchvision.transforms import ToTensor\n",
        "\n",
        "# Import matplotlib for visualization\n",
        "import matplotlib.pyplot as plt"
      ],
      "metadata": {
        "id": "ettnok7jfrq_"
      },
      "execution_count": null,
      "outputs": []
    },
    {
      "cell_type": "markdown",
      "source": [
        "---"
      ],
      "metadata": {
        "id": "KYdAaZ82frF_"
      }
    },
    {
      "cell_type": "code",
      "source": [
        "data_folder = r'/content/gdrive/MyDrive/FloodNet-Supervised_v1.0'\n",
        "\n",
        "train_image_folder = r'/content/gdrive/MyDrive/FloodNet-Supervised_v1.0/train/train-org-img'\n",
        "train_label_folder = r'/content/gdrive/MyDrive/FloodNet-Supervised_v1.0/train/train-label-img'"
      ],
      "metadata": {
        "id": "KBS9XJDvEA11"
      },
      "execution_count": null,
      "outputs": []
    },
    {
      "cell_type": "code",
      "source": [],
      "metadata": {
        "id": "Y43nvYkDu7Wr"
      },
      "execution_count": null,
      "outputs": []
    }
  ]
}